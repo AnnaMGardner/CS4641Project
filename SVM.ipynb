{
 "cells": [
  {
   "cell_type": "markdown",
   "id": "edcff593",
   "metadata": {},
   "source": [
    "# SVM\n"
   ]
  },
  {
   "cell_type": "code",
   "execution_count": 1,
   "id": "9a451263",
   "metadata": {},
   "outputs": [],
   "source": [
    "import pandas as pd\n",
    "import sys\n",
    "import matplotlib\n",
    "import seaborn as sns\n",
    "import numpy as np\n",
    "import matplotlib.pyplot as plt\n",
    "from mpl_toolkits.mplot3d import axes3d\n",
    "from tqdm import tqdm\n",
    "from sklearn import preprocessing\n",
    "from sklearn.preprocessing import StandardScaler\n",
    "from sklearn.manifold import TSNE\n",
    "from mpl_toolkits.mplot3d import Axes3D\n",
    "from matplotlib.colors import ListedColormap\n",
    "from sklearn.decomposition import PCA"
   ]
  },
  {
   "cell_type": "markdown",
   "id": "96afcf42",
   "metadata": {},
   "source": [
    "## Preparing data"
   ]
  },
  {
   "cell_type": "code",
   "execution_count": 2,
   "id": "9b4c3cc9",
   "metadata": {},
   "outputs": [
    {
     "name": "stdout",
     "output_type": "stream",
     "text": [
      "The raw Data:\n",
      "      id  gender   age  hypertension  heart_disease ever_married  \\\n",
      "0   9046    Male  67.0             0              1          Yes   \n",
      "1  51676  Female  61.0             0              0          Yes   \n",
      "2  31112    Male  80.0             0              1          Yes   \n",
      "3  60182  Female  49.0             0              0          Yes   \n",
      "4   1665  Female  79.0             1              0          Yes   \n",
      "\n",
      "       work_type Residence_type  avg_glucose_level   bmi   smoking_status  \\\n",
      "0        Private          Urban             228.69  36.6  formerly smoked   \n",
      "1  Self-employed          Rural             202.21   NaN     never smoked   \n",
      "2        Private          Rural             105.92  32.5     never smoked   \n",
      "3        Private          Urban             171.23  34.4           smokes   \n",
      "4  Self-employed          Rural             174.12  24.0     never smoked   \n",
      "\n",
      "   stroke  \n",
      "0       1  \n",
      "1       1  \n",
      "2       1  \n",
      "3       1  \n",
      "4       1  \n",
      "==============================================================================\n",
      "In the raw data, the target value and corrsponding number of data points are:\n",
      "0    4861\n",
      "1     249\n",
      "Name: stroke, dtype: int64\n"
     ]
    }
   ],
   "source": [
    "rawData = pd.read_csv('~/Documents/GaTech/2022 summer/Project/healthcare-dataset-stroke-data.csv')\n",
    "print(\"The raw Data:\")\n",
    "print(rawData.head())\n",
    "print(\"==============================================================================\")\n",
    "print('In the raw data, the target value and corrsponding number of data points are:')\n",
    "print(rawData['stroke'].value_counts())"
   ]
  },
  {
   "cell_type": "code",
   "execution_count": 3,
   "id": "e1fa257a",
   "metadata": {},
   "outputs": [
    {
     "name": "stdout",
     "output_type": "stream",
     "text": [
      "   gender   age  hypertension  heart_disease  ever_married  work_type  \\\n",
      "0       1  67.0             0              1             1          2   \n",
      "1       0  61.0             0              0             1          3   \n",
      "2       1  80.0             0              1             1          2   \n",
      "3       0  49.0             0              0             1          2   \n",
      "4       0  79.0             1              0             1          3   \n",
      "\n",
      "   Residence_type  avg_glucose_level        bmi  smoking_status  stroke  \n",
      "0               1             228.69  36.600000               1       1  \n",
      "1               0             202.21  28.893237               2       1  \n",
      "2               0             105.92  32.500000               2       1  \n",
      "3               1             171.23  34.400000               3       1  \n",
      "4               0             174.12  24.000000               2       1  \n"
     ]
    }
   ],
   "source": [
    "## Drop Patient ID feature & Target:stroke\n",
    "processed = rawData.drop(['id'], axis = 1)\n",
    "\n",
    "\n",
    "## Label encoder:\n",
    "label_encoder = preprocessing.LabelEncoder()\n",
    "\n",
    "for feature in processed:\n",
    "    if (processed[feature].dtype == object):\n",
    "        processed[feature]= label_encoder.fit_transform(processed[feature])\n",
    "\n",
    "## fill NaN data in BMI with colum average\n",
    "meanBMI = processed['bmi'].mean()\n",
    "processed['bmi'] = processed['bmi'].fillna(value=meanBMI)\n",
    "\n",
    "#processed = processed0.drop(['stroke'], axis = 1)\n",
    "\n",
    "print (processed.head())"
   ]
  },
  {
   "cell_type": "code",
   "execution_count": 4,
   "id": "3050a361",
   "metadata": {},
   "outputs": [
    {
     "name": "stdout",
     "output_type": "stream",
     "text": [
      "The balanced processed data:\n",
      "      gender        age  hypertension  heart_disease  ever_married  work_type  \\\n",
      "0          1  67.000000             0              1             1          2   \n",
      "1          0  61.000000             0              0             1          3   \n",
      "2          1  80.000000             0              1             1          2   \n",
      "3          0  49.000000             0              0             1          2   \n",
      "4          0  79.000000             1              0             1          3   \n",
      "...      ...        ...           ...            ...           ...        ...   \n",
      "9717       0  79.871507             1              0             1          2   \n",
      "9718       0  70.908861             0              0             1          0   \n",
      "9719       1  80.000000             0              0             1          2   \n",
      "9720       0  74.953742             0              0             1          3   \n",
      "9721       0  60.467509             0              0             1          2   \n",
      "\n",
      "      Residence_type  avg_glucose_level        bmi  smoking_status  stroke  \n",
      "0                  1         228.690000  36.600000               1       1  \n",
      "1                  0         202.210000  28.893237               2       1  \n",
      "2                  0         105.920000  32.500000               2       1  \n",
      "3                  1         171.230000  34.400000               3       1  \n",
      "4                  0         174.120000  24.000000               2       1  \n",
      "...              ...                ...        ...             ...     ...  \n",
      "9717               0         175.139663  30.536304               1       1  \n",
      "9718               1         262.839699  38.754683               1       1  \n",
      "9719               0         254.704872  30.844695               1       1  \n",
      "9720               0          78.622369  29.175103               1       1  \n",
      "9721               0         201.786669  30.732133               1       1  \n",
      "\n",
      "[9722 rows x 11 columns]\n",
      "==============================================================================\n",
      "In the balanced data, the target value and corrsponding number of data points are:\n",
      "1    4861\n",
      "0    4861\n",
      "Name: stroke, dtype: int64\n"
     ]
    }
   ],
   "source": [
    "## Balance the data using SMOTE\n",
    "\n",
    "from imblearn.over_sampling import SMOTE\n",
    "sm = SMOTE(random_state = 42)\n",
    "\n",
    "feature = processed.iloc[:,:-1]\n",
    "target = processed.iloc[:,-1]\n",
    "\n",
    "balanced, target_balanced = sm.fit_resample(feature, target)\n",
    "balanced['stroke'] = target_balanced\n",
    "\n",
    "#balanced = balanced0.drop(['stroke'], axis = 1)\n",
    "\n",
    "print(\"The balanced processed data:\")\n",
    "print(balanced)\n",
    "print(\"==============================================================================\")\n",
    "print('In the balanced data, the target value and corrsponding number of data points are:')\n",
    "print(balanced['stroke'].value_counts())"
   ]
  },
  {
   "cell_type": "code",
   "execution_count": 7,
   "id": "d5d88759",
   "metadata": {},
   "outputs": [],
   "source": [
    "## Normalized data\n",
    "sc = StandardScaler()\n",
    "unbNorm = sc.fit_transform(processed.iloc[:,:-1]) # normalzied unbalanced processed data\n",
    "balNorm = sc.fit_transform(balanced.iloc[:,:-1]) # normalzied balanced data\n"
   ]
  },
  {
   "cell_type": "code",
   "execution_count": 9,
   "id": "b349d35e",
   "metadata": {},
   "outputs": [
    {
     "name": "stdout",
     "output_type": "stream",
     "text": [
      "      gender        age  hypertension  heart_disease  ever_married  work_type  \\\n",
      "0          1  67.000000             0              1             1          2   \n",
      "1          0  61.000000             0              0             1          3   \n",
      "2          1  80.000000             0              1             1          2   \n",
      "3          0  49.000000             0              0             1          2   \n",
      "4          0  79.000000             1              0             1          3   \n",
      "...      ...        ...           ...            ...           ...        ...   \n",
      "9717       0  79.871507             1              0             1          2   \n",
      "9718       0  70.908861             0              0             1          0   \n",
      "9719       1  80.000000             0              0             1          2   \n",
      "9720       0  74.953742             0              0             1          3   \n",
      "9721       0  60.467509             0              0             1          2   \n",
      "\n",
      "      Residence_type  avg_glucose_level        bmi  smoking_status  \n",
      "0                  1         228.690000  36.600000               1  \n",
      "1                  0         202.210000  28.893237               2  \n",
      "2                  0         105.920000  32.500000               2  \n",
      "3                  1         171.230000  34.400000               3  \n",
      "4                  0         174.120000  24.000000               2  \n",
      "...              ...                ...        ...             ...  \n",
      "9717               0         175.139663  30.536304               1  \n",
      "9718               1         262.839699  38.754683               1  \n",
      "9719               0         254.704872  30.844695               1  \n",
      "9720               0          78.622369  29.175103               1  \n",
      "9721               0         201.786669  30.732133               1  \n",
      "\n",
      "[9722 rows x 10 columns]\n",
      "0       1\n",
      "1       1\n",
      "2       1\n",
      "3       1\n",
      "4       1\n",
      "       ..\n",
      "9717    1\n",
      "9718    1\n",
      "9719    1\n",
      "9720    1\n",
      "9721    1\n",
      "Name: stroke, Length: 9722, dtype: int64\n"
     ]
    }
   ],
   "source": [
    "## Balanced dataset X and target (with gender)\n",
    "X_all = balanced.drop('stroke', axis=1)\n",
    "y = balanced['stroke']\n",
    "print(X_all)\n",
    "print(y)"
   ]
  },
  {
   "cell_type": "code",
   "execution_count": 12,
   "id": "88b5ab3b",
   "metadata": {},
   "outputs": [
    {
     "name": "stdout",
     "output_type": "stream",
     "text": [
      "            age  hypertension  heart_disease  ever_married  work_type  \\\n",
      "0     67.000000             0              1             1          2   \n",
      "1     61.000000             0              0             1          3   \n",
      "2     80.000000             0              1             1          2   \n",
      "3     49.000000             0              0             1          2   \n",
      "4     79.000000             1              0             1          3   \n",
      "...         ...           ...            ...           ...        ...   \n",
      "9717  79.871507             1              0             1          2   \n",
      "9718  70.908861             0              0             1          0   \n",
      "9719  80.000000             0              0             1          2   \n",
      "9720  74.953742             0              0             1          3   \n",
      "9721  60.467509             0              0             1          2   \n",
      "\n",
      "      Residence_type  avg_glucose_level        bmi  smoking_status  \n",
      "0                  1         228.690000  36.600000               1  \n",
      "1                  0         202.210000  28.893237               2  \n",
      "2                  0         105.920000  32.500000               2  \n",
      "3                  1         171.230000  34.400000               3  \n",
      "4                  0         174.120000  24.000000               2  \n",
      "...              ...                ...        ...             ...  \n",
      "9717               0         175.139663  30.536304               1  \n",
      "9718               1         262.839699  38.754683               1  \n",
      "9719               0         254.704872  30.844695               1  \n",
      "9720               0          78.622369  29.175103               1  \n",
      "9721               0         201.786669  30.732133               1  \n",
      "\n",
      "[9722 rows x 9 columns]\n",
      "0       1\n",
      "1       1\n",
      "2       1\n",
      "3       1\n",
      "4       1\n",
      "       ..\n",
      "9717    1\n",
      "9718    1\n",
      "9719    1\n",
      "9720    1\n",
      "9721    1\n",
      "Name: stroke, Length: 9722, dtype: int64\n"
     ]
    }
   ],
   "source": [
    "## Balanced dataset X and target (without gender)\n",
    "X_all = balanced.drop('stroke', axis=1)\n",
    "X_no_gender = X_all.drop('gender', axis=1)\n",
    "\n",
    "y = balanced['stroke']\n",
    "print(X_no_gender)\n",
    "print(y)"
   ]
  },
  {
   "cell_type": "code",
   "execution_count": 13,
   "id": "d33c6cc6",
   "metadata": {},
   "outputs": [],
   "source": [
    "## Train Test Split\n",
    "\n",
    "### Balanced dataset X and target (with gender)\n",
    "from sklearn.model_selection import train_test_split\n",
    "X_all_train, X_all_test, y_all_train, y_all_test = train_test_split(X_all, y, test_size = 0.20)\n",
    "\n",
    "\n",
    "### Balanced dataset X and target (without gender)\n",
    "from sklearn.model_selection import train_test_split\n",
    "X_no_gender_train, X_no_gender_test, y_no_gender_train, y_no_gender_test = train_test_split(X_no_gender, y, test_size = 0.20)\n"
   ]
  },
  {
   "cell_type": "markdown",
   "id": "dc35b576",
   "metadata": {},
   "source": [
    "## Training the Algorithm\n",
    "### Balanced dataset X (without gender)\n",
    "#### Hard SVM (C = 1.0 or greater)"
   ]
  },
  {
   "cell_type": "code",
   "execution_count": 17,
   "id": "333a10cb",
   "metadata": {},
   "outputs": [
    {
     "name": "stdout",
     "output_type": "stream",
     "text": [
      "[[754 228]\n",
      " [133 830]]\n",
      "              precision    recall  f1-score   support\n",
      "\n",
      "           0       0.85      0.77      0.81       982\n",
      "           1       0.78      0.86      0.82       963\n",
      "\n",
      "    accuracy                           0.81      1945\n",
      "   macro avg       0.82      0.81      0.81      1945\n",
      "weighted avg       0.82      0.81      0.81      1945\n",
      "\n"
     ]
    }
   ],
   "source": [
    "# Simple SVM (no kernel)\n",
    "\n",
    "from sklearn.svm import SVC\n",
    "svclassifier = SVC(kernel='linear')\n",
    "svclassifier.fit(X_no_gender_train, y_no_gender_train)\n",
    "\n",
    "## Test\n",
    "y_no_gender_pred = svclassifier.predict(X_no_gender_test)\n",
    "\n",
    "## Evaluating\n",
    "from sklearn.metrics import classification_report, confusion_matrix\n",
    "print(confusion_matrix(y_no_gender_test, y_no_gender_pred))\n",
    "print(classification_report(y_no_gender_test, y_no_gender_pred))\n",
    "\n",
    "### Expensive Calculation\n"
   ]
  },
  {
   "cell_type": "code",
   "execution_count": 14,
   "id": "1743e795",
   "metadata": {},
   "outputs": [
    {
     "name": "stdout",
     "output_type": "stream",
     "text": [
      "[[839 143]\n",
      " [341 622]]\n",
      "              precision    recall  f1-score   support\n",
      "\n",
      "           0       0.71      0.85      0.78       982\n",
      "           1       0.81      0.65      0.72       963\n",
      "\n",
      "    accuracy                           0.75      1945\n",
      "   macro avg       0.76      0.75      0.75      1945\n",
      "weighted avg       0.76      0.75      0.75      1945\n",
      "\n"
     ]
    }
   ],
   "source": [
    "# Polynomial Kernel\n",
    "## degree of 10\n",
    "\n",
    "from sklearn.svm import SVC\n",
    "svclassifier = SVC(kernel='poly', degree=10)\n",
    "svclassifier.fit(X_no_gender_train, y_no_gender_train)\n",
    "\n",
    "## Test\n",
    "y_no_gender_pred = svclassifier.predict(X_no_gender_test)\n",
    "\n",
    "## Evaluating\n",
    "from sklearn.metrics import classification_report, confusion_matrix\n",
    "print(confusion_matrix(y_no_gender_test, y_no_gender_pred))\n",
    "print(classification_report(y_no_gender_test, y_no_gender_pred))\n",
    "\n",
    "\n",
    "### Expensive Calculation"
   ]
  },
  {
   "cell_type": "code",
   "execution_count": 18,
   "id": "a5cdd969",
   "metadata": {},
   "outputs": [
    {
     "name": "stdout",
     "output_type": "stream",
     "text": [
      "[[821 161]\n",
      " [310 653]]\n",
      "              precision    recall  f1-score   support\n",
      "\n",
      "           0       0.73      0.84      0.78       982\n",
      "           1       0.80      0.68      0.73       963\n",
      "\n",
      "    accuracy                           0.76      1945\n",
      "   macro avg       0.76      0.76      0.76      1945\n",
      "weighted avg       0.76      0.76      0.76      1945\n",
      "\n"
     ]
    }
   ],
   "source": [
    "# Polynomial Kernel\n",
    "## degree of 9\n",
    "\n",
    "from sklearn.svm import SVC\n",
    "svclassifier = SVC(kernel='poly', degree=9)\n",
    "svclassifier.fit(X_no_gender_train, y_no_gender_train)\n",
    "\n",
    "## Test\n",
    "y_no_gender_pred = svclassifier.predict(X_no_gender_test)\n",
    "\n",
    "## Evaluating\n",
    "from sklearn.metrics import classification_report, confusion_matrix\n",
    "print(confusion_matrix(y_no_gender_test, y_no_gender_pred))\n",
    "print(classification_report(y_no_gender_test, y_no_gender_pred))\n",
    "\n",
    "\n",
    "### Expensive Calculation"
   ]
  },
  {
   "cell_type": "code",
   "execution_count": 19,
   "id": "43205868",
   "metadata": {},
   "outputs": [
    {
     "name": "stdout",
     "output_type": "stream",
     "text": [
      "[[854 128]\n",
      " [378 585]]\n",
      "              precision    recall  f1-score   support\n",
      "\n",
      "           0       0.69      0.87      0.77       982\n",
      "           1       0.82      0.61      0.70       963\n",
      "\n",
      "    accuracy                           0.74      1945\n",
      "   macro avg       0.76      0.74      0.73      1945\n",
      "weighted avg       0.76      0.74      0.74      1945\n",
      "\n"
     ]
    }
   ],
   "source": [
    "# Polynomial Kernel\n",
    "## degree of 11\n",
    "\n",
    "from sklearn.svm import SVC\n",
    "svclassifier = SVC(kernel='poly', degree=11)\n",
    "svclassifier.fit(X_no_gender_train, y_no_gender_train)\n",
    "\n",
    "## Test\n",
    "y_no_gender_pred = svclassifier.predict(X_no_gender_test)\n",
    "\n",
    "## Evaluating\n",
    "from sklearn.metrics import classification_report, confusion_matrix\n",
    "print(confusion_matrix(y_no_gender_test, y_no_gender_pred))\n",
    "print(classification_report(y_no_gender_test, y_no_gender_pred))\n",
    "\n",
    "\n",
    "### Expensive Calculation (so expensive)\n",
    "### (don't try to run it again, it will take a long long time)"
   ]
  },
  {
   "cell_type": "code",
   "execution_count": 15,
   "id": "a08473cc",
   "metadata": {},
   "outputs": [
    {
     "name": "stdout",
     "output_type": "stream",
     "text": [
      "[[660 322]\n",
      " [121 842]]\n",
      "              precision    recall  f1-score   support\n",
      "\n",
      "           0       0.85      0.67      0.75       982\n",
      "           1       0.72      0.87      0.79       963\n",
      "\n",
      "    accuracy                           0.77      1945\n",
      "   macro avg       0.78      0.77      0.77      1945\n",
      "weighted avg       0.78      0.77      0.77      1945\n",
      "\n"
     ]
    }
   ],
   "source": [
    "# Gaussian Kernel\n",
    "\n",
    "svclassifier = SVC(kernel='rbf')\n",
    "svclassifier.fit(X_no_gender_train, y_no_gender_train)\n",
    "\n",
    "## Test\n",
    "y_no_gender_pred = svclassifier.predict(X_no_gender_test)\n",
    "\n",
    "## Evaluating\n",
    "print(confusion_matrix(y_no_gender_test, y_no_gender_pred))\n",
    "print(classification_report(y_no_gender_test, y_no_gender_pred))"
   ]
  },
  {
   "cell_type": "code",
   "execution_count": 16,
   "id": "04287c45",
   "metadata": {},
   "outputs": [
    {
     "name": "stdout",
     "output_type": "stream",
     "text": [
      "[[393 589]\n",
      " [576 387]]\n",
      "              precision    recall  f1-score   support\n",
      "\n",
      "           0       0.41      0.40      0.40       982\n",
      "           1       0.40      0.40      0.40       963\n",
      "\n",
      "    accuracy                           0.40      1945\n",
      "   macro avg       0.40      0.40      0.40      1945\n",
      "weighted avg       0.40      0.40      0.40      1945\n",
      "\n"
     ]
    }
   ],
   "source": [
    "# Sigmoid Kernel\n",
    "\n",
    "svclassifier = SVC(kernel='sigmoid')\n",
    "svclassifier.fit(X_no_gender_train, y_no_gender_train)\n",
    "\n",
    "## Test\n",
    "y_no_gender_pred = svclassifier.predict(X_no_gender_test)\n",
    "\n",
    "## Evaluating\n",
    "print(confusion_matrix(y_no_gender_test, y_no_gender_pred))\n",
    "print(classification_report(y_no_gender_test, y_no_gender_pred))\n"
   ]
  },
  {
   "cell_type": "code",
   "execution_count": 21,
   "id": "7fe0d74b",
   "metadata": {},
   "outputs": [
    {
     "name": "stdout",
     "output_type": "stream",
     "text": [
      "[[902  80]\n",
      " [ 34 929]]\n",
      "              precision    recall  f1-score   support\n",
      "\n",
      "           0       0.96      0.92      0.94       982\n",
      "           1       0.92      0.96      0.94       963\n",
      "\n",
      "    accuracy                           0.94      1945\n",
      "   macro avg       0.94      0.94      0.94      1945\n",
      "weighted avg       0.94      0.94      0.94      1945\n",
      "\n"
     ]
    }
   ],
   "source": [
    "#  Radial Basis Function (RBF) kernel SVM\n",
    "\n",
    "svclassifier = SVC(C = 1, gamma = 0.1)\n",
    "svclassifier.fit(X_no_gender_train, y_no_gender_train)\n",
    "\n",
    "## Test\n",
    "y_no_gender_pred = svclassifier.predict(X_no_gender_test)\n",
    "\n",
    "## Evaluating\n",
    "print(confusion_matrix(y_no_gender_test, y_no_gender_pred))\n",
    "print(classification_report(y_no_gender_test, y_no_gender_pred))"
   ]
  },
  {
   "cell_type": "code",
   "execution_count": 20,
   "id": "c85d76fd",
   "metadata": {},
   "outputs": [
    {
     "name": "stdout",
     "output_type": "stream",
     "text": [
      "[[906  76]\n",
      " [ 29 934]]\n",
      "              precision    recall  f1-score   support\n",
      "\n",
      "           0       0.97      0.92      0.95       982\n",
      "           1       0.92      0.97      0.95       963\n",
      "\n",
      "    accuracy                           0.95      1945\n",
      "   macro avg       0.95      0.95      0.95      1945\n",
      "weighted avg       0.95      0.95      0.95      1945\n",
      "\n"
     ]
    }
   ],
   "source": [
    "#  Radial Basis Function (RBF) kernel SVM\n",
    "\n",
    "svclassifier = SVC(C = 10, gamma = 0.1)\n",
    "svclassifier.fit(X_no_gender_train, y_no_gender_train)\n",
    "\n",
    "## Test\n",
    "y_no_gender_pred = svclassifier.predict(X_no_gender_test)\n",
    "\n",
    "## Evaluating\n",
    "print(confusion_matrix(y_no_gender_test, y_no_gender_pred))\n",
    "print(classification_report(y_no_gender_test, y_no_gender_pred))\n",
    "\n",
    "\n",
    "\n",
    "#### Overall best performance"
   ]
  },
  {
   "cell_type": "code",
   "execution_count": 29,
   "id": "be4f292b",
   "metadata": {},
   "outputs": [
    {
     "name": "stdout",
     "output_type": "stream",
     "text": [
      "[[979   3]\n",
      " [149 814]]\n",
      "              precision    recall  f1-score   support\n",
      "\n",
      "           0       0.87      1.00      0.93       982\n",
      "           1       1.00      0.85      0.91       963\n",
      "\n",
      "    accuracy                           0.92      1945\n",
      "   macro avg       0.93      0.92      0.92      1945\n",
      "weighted avg       0.93      0.92      0.92      1945\n",
      "\n"
     ]
    }
   ],
   "source": [
    "#  Radial Basis Function (RBF) kernel SVM\n",
    "\n",
    "svclassifier = SVC(C = 10, gamma = 1)\n",
    "svclassifier.fit(X_no_gender_train, y_no_gender_train)\n",
    "\n",
    "## Test\n",
    "y_no_gender_pred = svclassifier.predict(X_no_gender_test)\n",
    "\n",
    "## Evaluating\n",
    "print(confusion_matrix(y_no_gender_test, y_no_gender_pred))\n",
    "print(classification_report(y_no_gender_test, y_no_gender_pred))"
   ]
  },
  {
   "cell_type": "code",
   "execution_count": 31,
   "id": "d1505fe3",
   "metadata": {},
   "outputs": [
    {
     "name": "stdout",
     "output_type": "stream",
     "text": [
      "[[741 241]\n",
      " [ 77 886]]\n",
      "              precision    recall  f1-score   support\n",
      "\n",
      "           0       0.91      0.75      0.82       982\n",
      "           1       0.79      0.92      0.85       963\n",
      "\n",
      "    accuracy                           0.84      1945\n",
      "   macro avg       0.85      0.84      0.84      1945\n",
      "weighted avg       0.85      0.84      0.84      1945\n",
      "\n"
     ]
    }
   ],
   "source": [
    "#  Radial Basis Function (RBF) kernel SVM\n",
    "\n",
    "svclassifier = SVC(C = 10, gamma = 0.001)\n",
    "svclassifier.fit(X_no_gender_train, y_no_gender_train)\n",
    "\n",
    "## Test\n",
    "y_no_gender_pred = svclassifier.predict(X_no_gender_test)\n",
    "\n",
    "## Evaluating\n",
    "print(confusion_matrix(y_no_gender_test, y_no_gender_pred))\n",
    "print(classification_report(y_no_gender_test, y_no_gender_pred))\n",
    "\n",
    "\n"
   ]
  },
  {
   "cell_type": "code",
   "execution_count": null,
   "id": "3359a3e3",
   "metadata": {},
   "outputs": [],
   "source": [
    "svclassifier = SVC(C = 10, gamma = 'auto')\n",
    "svclassifier.fit(X_no_gender_train, y_no_gender_train)\n",
    "\n",
    "## Test\n",
    "y_no_gender_pred = svclassifier.predict(X_no_gender_test)\n",
    "\n",
    "## Evaluating\n",
    "print(confusion_matrix(y_no_gender_test, y_no_gender_pred))\n",
    "print(classification_report(y_no_gender_test, y_no_gender_pred))"
   ]
  },
  {
   "cell_type": "markdown",
   "id": "ef51faad",
   "metadata": {},
   "source": [
    "Gamma (default='scale' = 1 / (n_features * X.var()). ('auto'= 1 / n_features)\n",
    "    Value of gamma: defines how far the influence of a single training example reaches, with low values meaning ‘far’ and high values meaning ‘close’. The gamma parameters can be seen as the inverse of the radius of influence of samples selected by the model as support vectors.\n",
    "    \n",
    "C (default = 1.0) : The C parameter trades off correct classification of training examples against maximization of the decision function’s margin. For larger values of C, a smaller margin will be accepted if the decision function is better at classifying all training points correctly. A lower C will encourage a larger margin, therefore a simpler decision function, at the cost of training accuracy. In other words C behaves as a regularization parameter in the SVM."
   ]
  },
  {
   "cell_type": "markdown",
   "id": "952a69df",
   "metadata": {},
   "source": [
    "### Soft SVM\n",
    "#### C<1"
   ]
  },
  {
   "cell_type": "code",
   "execution_count": 34,
   "id": "4837031e",
   "metadata": {},
   "outputs": [
    {
     "name": "stdout",
     "output_type": "stream",
     "text": [
      "[[745 237]\n",
      " [136 827]]\n",
      "              precision    recall  f1-score   support\n",
      "\n",
      "           0       0.85      0.76      0.80       982\n",
      "           1       0.78      0.86      0.82       963\n",
      "\n",
      "    accuracy                           0.81      1945\n",
      "   macro avg       0.81      0.81      0.81      1945\n",
      "weighted avg       0.81      0.81      0.81      1945\n",
      "\n"
     ]
    }
   ],
   "source": [
    "# Simple SVM (no kernel)\n",
    "\n",
    "from sklearn.svm import SVC\n",
    "svclassifier = SVC(kernel='linear',C = 0.01)\n",
    "svclassifier.fit(X_no_gender_train, y_no_gender_train)\n",
    "\n",
    "## Test\n",
    "y_no_gender_pred = svclassifier.predict(X_no_gender_test)\n",
    "\n",
    "## Evaluating\n",
    "from sklearn.metrics import classification_report, confusion_matrix\n",
    "print(confusion_matrix(y_no_gender_test, y_no_gender_pred))\n",
    "print(classification_report(y_no_gender_test, y_no_gender_pred))\n",
    "\n",
    "### same result with hrad SVM"
   ]
  },
  {
   "cell_type": "code",
   "execution_count": 40,
   "id": "2adbfda1",
   "metadata": {},
   "outputs": [
    {
     "name": "stdout",
     "output_type": "stream",
     "text": [
      "[[907  75]\n",
      " [567 396]]\n",
      "              precision    recall  f1-score   support\n",
      "\n",
      "           0       0.62      0.92      0.74       982\n",
      "           1       0.84      0.41      0.55       963\n",
      "\n",
      "    accuracy                           0.67      1945\n",
      "   macro avg       0.73      0.67      0.65      1945\n",
      "weighted avg       0.73      0.67      0.65      1945\n",
      "\n"
     ]
    }
   ],
   "source": [
    "# Polynomial Kernel\n",
    "## degree of 9\n",
    "\n",
    "from sklearn.svm import SVC\n",
    "svclassifier = SVC(kernel='poly', degree=9,C=0.01)\n",
    "svclassifier.fit(X_no_gender_train, y_no_gender_train)\n",
    "\n",
    "## Test\n",
    "y_no_gender_pred = svclassifier.predict(X_no_gender_test)\n",
    "\n",
    "## Evaluating\n",
    "from sklearn.metrics import classification_report, confusion_matrix\n",
    "print(confusion_matrix(y_no_gender_test, y_no_gender_pred))\n",
    "print(classification_report(y_no_gender_test, y_no_gender_pred))\n",
    "\n",
    "\n",
    "### Expensive Calculation\n",
    "### similar with hard"
   ]
  },
  {
   "cell_type": "code",
   "execution_count": 35,
   "id": "85782059",
   "metadata": {},
   "outputs": [
    {
     "name": "stdout",
     "output_type": "stream",
     "text": [
      "[[595 387]\n",
      " [ 99 864]]\n",
      "              precision    recall  f1-score   support\n",
      "\n",
      "           0       0.86      0.61      0.71       982\n",
      "           1       0.69      0.90      0.78       963\n",
      "\n",
      "    accuracy                           0.75      1945\n",
      "   macro avg       0.77      0.75      0.75      1945\n",
      "weighted avg       0.77      0.75      0.74      1945\n",
      "\n"
     ]
    }
   ],
   "source": [
    "# Gaussian Kernel\n",
    "\n",
    "svclassifier = SVC(kernel='rbf',C=0.01)\n",
    "svclassifier.fit(X_no_gender_train, y_no_gender_train)\n",
    "\n",
    "## Test\n",
    "y_no_gender_pred = svclassifier.predict(X_no_gender_test)\n",
    "\n",
    "## Evaluating\n",
    "print(confusion_matrix(y_no_gender_test, y_no_gender_pred))\n",
    "print(classification_report(y_no_gender_test, y_no_gender_pred))\n",
    "\n",
    "### worse than hard"
   ]
  },
  {
   "cell_type": "code",
   "execution_count": 37,
   "id": "7f34495a",
   "metadata": {},
   "outputs": [
    {
     "name": "stdout",
     "output_type": "stream",
     "text": [
      "[[245 737]\n",
      " [408 555]]\n",
      "              precision    recall  f1-score   support\n",
      "\n",
      "           0       0.38      0.25      0.30       982\n",
      "           1       0.43      0.58      0.49       963\n",
      "\n",
      "    accuracy                           0.41      1945\n",
      "   macro avg       0.40      0.41      0.40      1945\n",
      "weighted avg       0.40      0.41      0.40      1945\n",
      "\n"
     ]
    }
   ],
   "source": [
    "# Sigmoid Kernel\n",
    "\n",
    "svclassifier = SVC(kernel='sigmoid', C=0.01)\n",
    "svclassifier.fit(X_no_gender_train, y_no_gender_train)\n",
    "\n",
    "## Test\n",
    "y_no_gender_pred = svclassifier.predict(X_no_gender_test)\n",
    "\n",
    "## Evaluating\n",
    "print(confusion_matrix(y_no_gender_test, y_no_gender_pred))\n",
    "print(classification_report(y_no_gender_test, y_no_gender_pred))\n",
    "\n",
    "### similar with hard"
   ]
  },
  {
   "cell_type": "code",
   "execution_count": 39,
   "id": "856a4c16",
   "metadata": {},
   "outputs": [
    {
     "name": "stdout",
     "output_type": "stream",
     "text": [
      "[[922  60]\n",
      " [208 755]]\n",
      "              precision    recall  f1-score   support\n",
      "\n",
      "           0       0.82      0.94      0.87       982\n",
      "           1       0.93      0.78      0.85       963\n",
      "\n",
      "    accuracy                           0.86      1945\n",
      "   macro avg       0.87      0.86      0.86      1945\n",
      "weighted avg       0.87      0.86      0.86      1945\n",
      "\n"
     ]
    }
   ],
   "source": [
    "#  Radial Basis Function (RBF) kernel SVM\n",
    "\n",
    "svclassifier = SVC(C = 0.1, gamma = 0.1)\n",
    "svclassifier.fit(X_no_gender_train, y_no_gender_train)\n",
    "\n",
    "## Test\n",
    "y_no_gender_pred = svclassifier.predict(X_no_gender_test)\n",
    "\n",
    "## Evaluating\n",
    "print(confusion_matrix(y_no_gender_test, y_no_gender_pred))\n",
    "print(classification_report(y_no_gender_test, y_no_gender_pred))\n",
    "\n",
    "### Worse, decreasing C will even worsen the result"
   ]
  },
  {
   "cell_type": "code",
   "execution_count": null,
   "id": "61026bec",
   "metadata": {},
   "outputs": [],
   "source": []
  }
 ],
 "metadata": {
  "kernelspec": {
   "display_name": "Python 3",
   "language": "python",
   "name": "python3"
  },
  "language_info": {
   "codemirror_mode": {
    "name": "ipython",
    "version": 3
   },
   "file_extension": ".py",
   "mimetype": "text/x-python",
   "name": "python",
   "nbconvert_exporter": "python",
   "pygments_lexer": "ipython3",
   "version": "3.9.12"
  }
 },
 "nbformat": 4,
 "nbformat_minor": 5
}
